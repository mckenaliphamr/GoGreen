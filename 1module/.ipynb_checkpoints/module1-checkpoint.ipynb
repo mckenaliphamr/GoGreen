{
 "cells": [
  {
   "cell_type": "markdown",
   "metadata": {},
   "source": [
    "### <p style=\"text-align: right;\"> &#9989; **Group 1 (GoGreen)** </p>\n",
    "#### <p style=\"text-align: right;\"> &#9989; Beth, Zhongjie, McKenna, Erik</p>\n",
    "\n",
    "# Module 1\n",
    "\n"
   ]
  },
  {
   "cell_type": "markdown",
   "metadata": {},
   "source": [
    "## How do SNPs relate to gene transcription?\n",
    "\n",
    "We will work with maize. "
   ]
  },
  {
   "cell_type": "markdown",
   "metadata": {},
   "source": [
    "Jupyter by default converts `tabs` into `spaces` which is good."
   ]
  },
  {
   "cell_type": "markdown",
   "metadata": {},
   "source": [
    "First, import the usual libraries"
   ]
  },
  {
   "cell_type": "code",
   "execution_count": 1,
   "metadata": {},
   "outputs": [],
   "source": [
    "# basic math operations\n",
    "import math \n",
    "\n",
    "# enable file manipulation with the OS\n",
    "import os \n",
    "\n",
    "# more file manipulation\n",
    "import glob \n",
    "\n",
    "# default plotter (I personally like ggplot waaaaay better. E)\n",
    "import matplotlib.pyplot as plt \n",
    "%matplotlib inline # so that plots are shown in the notebook\n",
    "\n",
    "# better plotter\n",
    "import seaborn as sns \n",
    "\n",
    "# all the numerical cruching done here\n",
    "import numpy as np \n",
    "\n",
    "# data wrangling\n",
    "import pandas as pd "
   ]
  },
  {
   "cell_type": "markdown",
   "metadata": {},
   "source": [
    "Define some functions. Let's see for how long can we keep tidy commented code."
   ]
  },
  {
   "cell_type": "code",
   "execution_count": 7,
   "metadata": {},
   "outputs": [],
   "source": [
    "def greeting(name):\n",
    "    \"\"\"\n",
    "    Prints a greeting for given name\n",
    "    \n",
    "    Parameters\n",
    "    ----------\n",
    "    name : string\n",
    "         Name of whomever will be greeted\n",
    "    \n",
    "    Returns\n",
    "    -------\n",
    "    none : simply prints\n",
    "    \"\"\"\n",
    "    print(\"Nice to have you here,\", name, \"!\")\n",
    "    \n",
    "    "
   ]
  },
  {
   "cell_type": "code",
   "execution_count": 8,
   "metadata": {},
   "outputs": [
    {
     "name": "stdout",
     "output_type": "stream",
     "text": [
      "Nice to have you here, Erik !\n"
     ]
    }
   ],
   "source": [
    "greeting(\"Erik\")"
   ]
  },
  {
   "cell_type": "markdown",
   "metadata": {},
   "source": [
    "We can print whatever text was written between the `\"\"\"` above."
   ]
  },
  {
   "cell_type": "code",
   "execution_count": 9,
   "metadata": {},
   "outputs": [
    {
     "name": "stdout",
     "output_type": "stream",
     "text": [
      "\n",
      "    Prints a greeting for given name\n",
      "    \n",
      "    Parameters\n",
      "    ----------\n",
      "    name : string\n",
      "         Name of whomever will be greeted\n",
      "    \n",
      "    Returns\n",
      "    -------\n",
      "    none : simply prints\n",
      "    \n"
     ]
    }
   ],
   "source": [
    "print(greeting.__doc__)"
   ]
  }
 ],
 "metadata": {
  "kernelspec": {
   "display_name": "Python 3",
   "language": "python",
   "name": "python3"
  },
  "language_info": {
   "codemirror_mode": {
    "name": "ipython",
    "version": 3
   },
   "file_extension": ".py",
   "mimetype": "text/x-python",
   "name": "python",
   "nbconvert_exporter": "python",
   "pygments_lexer": "ipython3",
   "version": "3.6.9"
  }
 },
 "nbformat": 4,
 "nbformat_minor": 2
}
